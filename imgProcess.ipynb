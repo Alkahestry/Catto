{
  "nbformat": 4,
  "nbformat_minor": 0,
  "metadata": {
    "colab": {
      "name": "Gender Classification",
      "provenance": [],
      "collapsed_sections": []
    },
    "kernelspec": {
      "name": "python3",
      "display_name": "Python 3.9.5 64-bit"
    },
    "language_info": {
      "name": "python",
      "version": "3.9.5"
    },
    "metadata": {
      "interpreter": {
        "hash": "38740d3277777e2cd7c6c2cc9d8addf5118fdf3f82b1b39231fd12aeac8aee8b"
      }
    },
    "interpreter": {
      "hash": "38740d3277777e2cd7c6c2cc9d8addf5118fdf3f82b1b39231fd12aeac8aee8b"
    }
  },
  "cells": [
    {
      "cell_type": "code",
      "execution_count": 36,
      "metadata": {},
      "outputs": [],
      "source": [
        "import time\n",
        "import copy\n",
        "import numpy as np\n",
        "import matplotlib.pyplot as plt\n",
        "import pandas as pd\n",
        "import shutil"
      ]
    },
    {
      "cell_type": "code",
      "execution_count": 37,
      "metadata": {
        "tags": []
      },
      "outputs": [],
      "source": [
        "import os, sys\n",
        "import os.path\n",
        "from PIL import Image, ImageOps, ImageFilter\n",
        "import secrets\n",
        "\n",
        "DATA_PATH = 'img_processing/Raw/'\n",
        "OUT_PATH = 'img_processing/JPG_Stage/'\n",
        "LABEL_PATH = 'img_processing/Labels/'"
      ]
    },
    {
      "cell_type": "code",
      "execution_count": 38,
      "metadata": {},
      "outputs": [],
      "source": [
        "def mkdir(PATH):\n",
        "    try:\n",
        "        os.mkdir(PATH)\n",
        "    except OSError:\n",
        "        print(PATH,'already exists, skipping.')"
      ]
    },
    {
      "cell_type": "code",
      "execution_count": 41,
      "metadata": {},
      "outputs": [
        {
          "output_type": "stream",
          "name": "stdout",
          "text": [
            "img_processing/Raw/ already exists, skipping.\nimg_processing/JPG_Stage/ already exists, skipping.\n"
          ]
        }
      ],
      "source": [
        "mkdir(DATA_PATH)\n",
        "mkdir(OUT_PATH)\n",
        "mkdir(LABEL_PATH)"
      ]
    },
    {
      "cell_type": "code",
      "execution_count": 40,
      "metadata": {
        "tags": []
      },
      "outputs": [
        {
          "output_type": "stream",
          "name": "stdout",
          "text": [
            "Converted Dumb1.png to JPG\n",
            "Converted Dumb2.png to JPG\n",
            "Converted Dumb3.png to JPG\n",
            "Converted Dumb4.png to JPG\n",
            "Converted Dumb5.png to JPG\n",
            "Converted Dumb6.png to JPG\n",
            "cannot convert labels_my-project-name_2021-06-15-08-15-52.zip\n",
            "Converted Screenshot 2021-06-15 172037.png to JPG\n",
            "Converted Screenshot 2021-06-15 172135.png to JPG\n",
            "Converted Screenshot 2021-06-15 172443.png to JPG\n"
          ]
        }
      ],
      "source": [
        "outfileExt = 'jpg'\n",
        "for f in os.listdir(DATA_PATH):\n",
        "    temp = f.split(\".\")\n",
        "    fName = temp[0]\n",
        "    fExt = temp[1]\n",
        "    if fExt.lower()!=outfileExt:\n",
        "        try:\n",
        "            with Image.open(DATA_PATH + f) as im:\n",
        "                rgb_im = im.convert('RGB')\n",
        "                rgb_im.save(OUT_PATH+fName+'.'+outfileExt)\n",
        "                print('Converted',f,'to JPG')\n",
        "        except OSError:\n",
        "            print(\"cannot convert\", f)\n",
        "    else:\n",
        "        shutil.copy(DATA_PATH+f,OUT_PATH+f)"
      ]
    },
    {
      "cell_type": "code",
      "execution_count": 42,
      "metadata": {},
      "outputs": [],
      "source": [
        "DATA_PATH = 'img_processing/JPG_Stage/'\n",
        "OUT_PATH = 'img_processing/Augmentation/'\n",
        "LABEL_OUT_PATH = 'img_processing/Cloned_Labels/'\n",
        "\n",
        "mkdir(OUT_PATH)\n",
        "mkdir(LABEL_OUT_PATH)"
      ]
    },
    {
      "cell_type": "code",
      "execution_count": 43,
      "metadata": {},
      "outputs": [],
      "source": [
        "labelExt = '.txt'\n",
        "def grayscale(img):\n",
        "    try:\n",
        "        with Image.open(DATA_PATH+img) as im:\n",
        "            fout = img.split('.')[0]+'_Gray'+'.'+outfileExt\n",
        "            im = ImageOps.grayscale(im)\n",
        "            im.save(OUT_PATH+fout)\n",
        "            clone_label(img,'Gray')\n",
        "    except OSError:\n",
        "        print('Unable to grayscale image:' + img)\n",
        "        pass\n",
        "\n",
        "def mirror(img):\n",
        "    try:\n",
        "        with Image.open(DATA_PATH+img) as im:\n",
        "            fout = img.split('.')[0]+'_Mirror'+'.'+outfileExt\n",
        "            im = ImageOps.mirror(im)\n",
        "            im.save(OUT_PATH+fout)\n",
        "            clone_label(img,'Mirror')\n",
        "    except OSError:\n",
        "        print('Unable to mirror image:' + img)\n",
        "        pass\n",
        "\n",
        "def flip(img):\n",
        "    try:\n",
        "        with Image.open(DATA_PATH+img) as im:\n",
        "            fout = img.split('.')[0]+'_Flip'+'.'+outfileExt\n",
        "            im = ImageOps.flip(im)\n",
        "            im.save(OUT_PATH+fout)\n",
        "            clone_label(img,'Flip')\n",
        "    except OSError:\n",
        "        print('Unable to flip image:' + img)\n",
        "        pass\n",
        "\n",
        "def blur(img):\n",
        "    try:\n",
        "        with Image.open(DATA_PATH+img) as im:\n",
        "            fout = img.split('.')[0]+'_Blur'+'.'+outfileExt\n",
        "            im = im.filter(ImageFilter.GaussianBlur(secrets.randbelow(3)))\n",
        "            im.save(OUT_PATH+fout)\n",
        "            clone_label(img,'Blur')\n",
        "    except OSError:\n",
        "        print('Unable to blur image:  ' + img)\n",
        "        pass\n",
        "\n",
        "def clone_label(img,option):\n",
        "    labelSrc = img.split('.')[0]\n",
        "    label = labelSrc + '_' + option\n",
        "    if(os.path.isfile(LABEL_PATH + labelSrc + labelExt)):\n",
        "        shutil.copy(LABEL_PATH + labelSrc + labelExt, LABEL_OUT_PATH + label + labelExt)\n",
        "    else:\n",
        "        print('No label found for',img,', skipping.')"
      ]
    },
    {
      "cell_type": "code",
      "execution_count": 44,
      "metadata": {},
      "outputs": [],
      "source": [
        "# +1 to all percents\n",
        "percent_grayscale = 55\n",
        "percent_flip = 30\n",
        "percent_mirror = 30\n",
        "percent_blur = 35"
      ]
    },
    {
      "cell_type": "code",
      "execution_count": 45,
      "metadata": {
        "tags": []
      },
      "outputs": [
        {
          "output_type": "stream",
          "name": "stdout",
          "text": [
            "No label found for 26379050_1.jpg , skipping.\n",
            "No label found for 26379050_2.jpg , skipping.\n",
            "No label found for 26379050_4.jpg , skipping.\n",
            "No label found for 26542905_2.jpg , skipping.\n",
            "No label found for 26542905_4.jpg , skipping.\n",
            "No label found for 29033335_3.jpg , skipping.\n",
            "No label found for 29033335_6.jpg , skipping.\n",
            "No label found for 34046779_2.jpg , skipping.\n",
            "No label found for 34046779_4.jpg , skipping.\n",
            "No label found for 34046779_5.jpg , skipping.\n",
            "No label found for 43221791_4.jpg , skipping.\n",
            "No label found for 43221791_5.jpg , skipping.\n",
            "No label found for 43778856_1.jpg , skipping.\n",
            "No label found for 43778856_6.jpg , skipping.\n",
            "No label found for 44204921_3.jpg , skipping.\n",
            "No label found for 44204921_4.jpg , skipping.\n",
            "No label found for 44204921_6.jpg , skipping.\n",
            "No label found for 46760834_1.jpg , skipping.\n",
            "No label found for 46760834_6.jpg , skipping.\n",
            "No label found for 47088438_5.jpg , skipping.\n",
            "No label found for 47088438_6.jpg , skipping.\n",
            "No label found for 47874851_2.jpg , skipping.\n",
            "No label found for 48038761_1.jpg , skipping.\n",
            "No label found for 48038761_4.jpg , skipping.\n",
            "No label found for 48366436_1.jpg , skipping.\n",
            "No label found for 48890771_1.jpg , skipping.\n",
            "No label found for 48890771_3.jpg , skipping.\n",
            "No label found for 48890771_5.jpg , skipping.\n",
            "No label found for 49677145_1.jpg , skipping.\n",
            "No label found for 49677145_4.jpg , skipping.\n",
            "No label found for 49677145_5.jpg , skipping.\n",
            "No label found for 49840998_1.jpg , skipping.\n",
            "No label found for 49840998_2.jpg , skipping.\n",
            "No label found for 49840998_4.jpg , skipping.\n",
            "No label found for 49840998_6.jpg , skipping.\n",
            "No label found for 49939343_2.jpg , skipping.\n",
            "No label found for 49939343_5.jpg , skipping.\n",
            "No label found for 49972119_1.jpg , skipping.\n",
            "No label found for 49972119_6.jpg , skipping.\n",
            "No label found for 50037594_4.jpg , skipping.\n",
            "No label found for 50103145_2.jpg , skipping.\n",
            "No label found for 50103145_4.jpg , skipping.\n",
            "No label found for 50103145_6.jpg , skipping.\n",
            "No label found for 51684092_5.jpg , skipping.\n",
            "No label found for Abyssinian_14210840_249.jpg , skipping.\n",
            "No label found for Bombay_17650296_8551.jpg , skipping.\n",
            "No label found for Capture.JPG , skipping.\n",
            "No label found for Capture10.JPG , skipping.\n",
            "No label found for Capture14.JPG , skipping.\n",
            "No label found for Capture7.JPG , skipping.\n",
            "No label found for Capture8.JPG , skipping.\n",
            "No label found for Capture9.JPG , skipping.\n",
            "No label found for Cat's Determined To Take Grilled Fish For The Lady Who Saved His Life Kritter Klub 001.jpg , skipping.\n",
            "No label found for Cat's Determined To Take Grilled Fish For The Lady Who Saved His Life Kritter Klub 003.jpg , skipping.\n",
            "No label found for Cat's Determined To Take Grilled Fish For The Lady Who Saved His Life Kritter Klub 007.jpg , skipping.\n",
            "No label found for Cat's Determined To Take Grilled Fish For The Lady Who Saved His Life Kritter Klub 008.jpg , skipping.\n",
            "No label found for Cat's Determined To Take Grilled Fish For The Lady Who Saved His Life Kritter Klub 009.jpg , skipping.\n",
            "No label found for Cat's Determined To Take Grilled Fish For The Lady Who Saved His Life Kritter Klub 012.jpg , skipping.\n",
            "No label found for Cat's Determined To Take Grilled Fish For The Lady Who Saved His Life Kritter Klub 014.jpg , skipping.\n",
            "No label found for Cat's Determined To Take Grilled Fish For The Lady Who Saved His Life Kritter Klub 015.jpg , skipping.\n",
            "No label found for Cat's Determined To Take Grilled Fish For The Lady Who Saved His Life Kritter Klub 019.jpg , skipping.\n",
            "No label found for Cat's Determined To Take Grilled Fish For The Lady Who Saved His Life Kritter Klub 021.jpg , skipping.\n",
            "No label found for Cat's Determined To Take Grilled Fish For The Lady Who Saved His Life Kritter Klub 026.jpg , skipping.\n",
            "No label found for Cat's Determined To Take Grilled Fish For The Lady Who Saved His Life Kritter Klub 031.jpg , skipping.\n",
            "No label found for Cat's Determined To Take Grilled Fish For The Lady Who Saved His Life Kritter Klub 033.jpg , skipping.\n",
            "No label found for Cat's Determined To Take Grilled Fish For The Lady Who Saved His Life Kritter Klub 034.jpg , skipping.\n",
            "No label found for Cat's Determined To Take Grilled Fish For The Lady Who Saved His Life Kritter Klub 036.jpg , skipping.\n",
            "No label found for Cat's Determined To Take Grilled Fish For The Lady Who Saved His Life Kritter Klub 038.jpg , skipping.\n",
            "No label found for Cat's Determined To Take Grilled Fish For The Lady Who Saved His Life Kritter Klub 040.jpg , skipping.\n",
            "No label found for Cat's Determined To Take Grilled Fish For The Lady Who Saved His Life Kritter Klub 041.jpg , skipping.\n",
            "No label found for Cat's Determined To Take Grilled Fish For The Lady Who Saved His Life Kritter Klub 043.jpg , skipping.\n",
            "No label found for Cat's Determined To Take Grilled Fish For The Lady Who Saved His Life Kritter Klub 044.jpg , skipping.\n",
            "No label found for Cat's Determined To Take Grilled Fish For The Lady Who Saved His Life Kritter Klub 048.jpg , skipping.\n",
            "No label found for Cat's Determined To Take Grilled Fish For The Lady Who Saved His Life Kritter Klub 050.jpg , skipping.\n",
            "No label found for Cat's Determined To Take Grilled Fish For The Lady Who Saved His Life Kritter Klub 053.jpg , skipping.\n",
            "No label found for Cat's Determined To Take Grilled Fish For The Lady Who Saved His Life Kritter Klub 054.jpg , skipping.\n",
            "No label found for Cat's Determined To Take Grilled Fish For The Lady Who Saved His Life Kritter Klub 055.jpg , skipping.\n",
            "No label found for Cat's Determined To Take Grilled Fish For The Lady Who Saved His Life Kritter Klub 056.jpg , skipping.\n",
            "No label found for Cat's Determined To Take Grilled Fish For The Lady Who Saved His Life Kritter Klub 057.jpg , skipping.\n",
            "No label found for Cat's Determined To Take Grilled Fish For The Lady Who Saved His Life Kritter Klub 059.jpg , skipping.\n",
            "No label found for Cat's Determined To Take Grilled Fish For The Lady Who Saved His Life Kritter Klub 060.jpg , skipping.\n",
            "No label found for Cat's Determined To Take Grilled Fish For The Lady Who Saved His Life Kritter Klub 062.jpg , skipping.\n",
            "No label found for Cat's Determined To Take Grilled Fish For The Lady Who Saved His Life Kritter Klub 068.jpg , skipping.\n",
            "No label found for Cat's Determined To Take Grilled Fish For The Lady Who Saved His Life Kritter Klub 071.jpg , skipping.\n",
            "No label found for Cat's Determined To Take Grilled Fish For The Lady Who Saved His Life Kritter Klub 077.jpg , skipping.\n",
            "No label found for Cat's Determined To Take Grilled Fish For The Lady Who Saved His Life Kritter Klub 082.jpg , skipping.\n",
            "No label found for Cat's Determined To Take Grilled Fish For The Lady Who Saved His Life Kritter Klub 088.jpg , skipping.\n",
            "No label found for Cat's Determined To Take Grilled Fish For The Lady Who Saved His Life Kritter Klub 089.jpg , skipping.\n",
            "No label found for Cat's Determined To Take Grilled Fish For The Lady Who Saved His Life Kritter Klub 092.jpg , skipping.\n",
            "No label found for Cat's Determined To Take Grilled Fish For The Lady Who Saved His Life Kritter Klub 095.jpg , skipping.\n",
            "No label found for Cat's Determined To Take Grilled Fish For The Lady Who Saved His Life Kritter Klub 098.jpg , skipping.\n",
            "No label found for Cat's Determined To Take Grilled Fish For The Lady Who Saved His Life Kritter Klub 103.jpg , skipping.\n",
            "No label found for Cat's Determined To Take Grilled Fish For The Lady Who Saved His Life Kritter Klub 106.jpg , skipping.\n",
            "No label found for Cat's Determined To Take Grilled Fish For The Lady Who Saved His Life Kritter Klub 109.jpg , skipping.\n",
            "No label found for Cat's Determined To Take Grilled Fish For The Lady Who Saved His Life Kritter Klub 112.jpg , skipping.\n",
            "No label found for Cat's Determined To Take Grilled Fish For The Lady Who Saved His Life Kritter Klub 113.jpg , skipping.\n",
            "No label found for Cat's Determined To Take Grilled Fish For The Lady Who Saved His Life Kritter Klub 114.jpg , skipping.\n",
            "No label found for Cat's Determined To Take Grilled Fish For The Lady Who Saved His Life Kritter Klub 116.jpg , skipping.\n",
            "No label found for Cat's Determined To Take Grilled Fish For The Lady Who Saved His Life Kritter Klub 120.jpg , skipping.\n",
            "No label found for Cat's Determined To Take Grilled Fish For The Lady Who Saved His Life Kritter Klub 124.jpg , skipping.\n",
            "No label found for Cat's Determined To Take Grilled Fish For The Lady Who Saved His Life Kritter Klub 126.jpg , skipping.\n",
            "No label found for Cat's Determined To Take Grilled Fish For The Lady Who Saved His Life Kritter Klub 128.jpg , skipping.\n",
            "No label found for Cat's Determined To Take Grilled Fish For The Lady Who Saved His Life Kritter Klub 131.jpg , skipping.\n",
            "No label found for Cat's Determined To Take Grilled Fish For The Lady Who Saved His Life Kritter Klub 132.jpg , skipping.\n",
            "No label found for Cat's Determined To Take Grilled Fish For The Lady Who Saved His Life Kritter Klub 133.jpg , skipping.\n",
            "No label found for Cat's Determined To Take Grilled Fish For The Lady Who Saved His Life Kritter Klub 142.jpg , skipping.\n",
            "No label found for Cat's Determined To Take Grilled Fish For The Lady Who Saved His Life Kritter Klub 146.jpg , skipping.\n",
            "No label found for Cat's Determined To Take Grilled Fish For The Lady Who Saved His Life Kritter Klub 149.jpg , skipping.\n",
            "No label found for Cat's Determined To Take Grilled Fish For The Lady Who Saved His Life Kritter Klub 157.jpg , skipping.\n",
            "No label found for Cat's Determined To Take Grilled Fish For The Lady Who Saved His Life Kritter Klub 161.jpg , skipping.\n",
            "No label found for Cat's Determined To Take Grilled Fish For The Lady Who Saved His Life Kritter Klub 162.jpg , skipping.\n",
            "No label found for Cat's Determined To Take Grilled Fish For The Lady Who Saved His Life Kritter Klub 164.jpg , skipping.\n",
            "No label found for Cat's Determined To Take Grilled Fish For The Lady Who Saved His Life Kritter Klub 165.jpg , skipping.\n",
            "No label found for Extra-Toes Cat - Hemingway Polydactyl_20782308_7401.jpg , skipping.\n",
            "No label found for Havana_11255251_734.jpg , skipping.\n",
            "No label found for Screenshot 2021-06-15 172037.jpg , skipping.\n",
            "No label found for Screenshot 2021-06-15 172135.jpg , skipping.\n",
            "No label found for Silver_15956419_1190.jpg , skipping.\n"
          ]
        }
      ],
      "source": [
        "for img in os.listdir(DATA_PATH):\n",
        "    if secrets.randbelow(101)<percent_grayscale:\n",
        "        grayscale(img)"
      ]
    },
    {
      "cell_type": "code",
      "execution_count": 46,
      "metadata": {
        "tags": []
      },
      "outputs": [
        {
          "output_type": "stream",
          "name": "stdout",
          "text": [
            "No label found for 26379050_3.jpg , skipping.\n",
            "No label found for 26379050_5.jpg , skipping.\n",
            "No label found for 26542905_2.jpg , skipping.\n",
            "No label found for 29033335_1.jpg , skipping.\n",
            "No label found for 29033335_6.jpg , skipping.\n",
            "No label found for 43221791_4.jpg , skipping.\n",
            "No label found for 43778856_1.jpg , skipping.\n",
            "No label found for 43778856_3.jpg , skipping.\n",
            "No label found for 44204921_6.jpg , skipping.\n",
            "No label found for 46760834_5.jpg , skipping.\n",
            "No label found for 47088438_1.jpg , skipping.\n",
            "No label found for 47874851_3.jpg , skipping.\n",
            "No label found for 48038761_2.jpg , skipping.\n",
            "No label found for 48366436_1.jpg , skipping.\n",
            "No label found for 48366436_3.jpg , skipping.\n",
            "No label found for 48890771_1.jpg , skipping.\n",
            "No label found for 49677145_5.jpg , skipping.\n",
            "No label found for 49840998_2.jpg , skipping.\n",
            "No label found for 49939343_3.jpg , skipping.\n",
            "No label found for 49972119_2.jpg , skipping.\n",
            "No label found for 50037594_5.jpg , skipping.\n",
            "No label found for 51684092_6.jpg , skipping.\n",
            "No label found for 51749596_3.jpg , skipping.\n",
            "No label found for American Wirehair_38444660_35.jpg , skipping.\n",
            "No label found for Capture.JPG , skipping.\n",
            "No label found for Capture7.JPG , skipping.\n",
            "No label found for Cat's Determined To Take Grilled Fish For The Lady Who Saved His Life Kritter Klub 003.jpg , skipping.\n",
            "No label found for Cat's Determined To Take Grilled Fish For The Lady Who Saved His Life Kritter Klub 005.jpg , skipping.\n",
            "No label found for Cat's Determined To Take Grilled Fish For The Lady Who Saved His Life Kritter Klub 009.jpg , skipping.\n",
            "No label found for Cat's Determined To Take Grilled Fish For The Lady Who Saved His Life Kritter Klub 012.jpg , skipping.\n",
            "No label found for Cat's Determined To Take Grilled Fish For The Lady Who Saved His Life Kritter Klub 018.jpg , skipping.\n",
            "No label found for Cat's Determined To Take Grilled Fish For The Lady Who Saved His Life Kritter Klub 024.jpg , skipping.\n",
            "No label found for Cat's Determined To Take Grilled Fish For The Lady Who Saved His Life Kritter Klub 025.jpg , skipping.\n",
            "No label found for Cat's Determined To Take Grilled Fish For The Lady Who Saved His Life Kritter Klub 033.jpg , skipping.\n",
            "No label found for Cat's Determined To Take Grilled Fish For The Lady Who Saved His Life Kritter Klub 037.jpg , skipping.\n",
            "No label found for Cat's Determined To Take Grilled Fish For The Lady Who Saved His Life Kritter Klub 039.jpg , skipping.\n",
            "No label found for Cat's Determined To Take Grilled Fish For The Lady Who Saved His Life Kritter Klub 041.jpg , skipping.\n",
            "No label found for Cat's Determined To Take Grilled Fish For The Lady Who Saved His Life Kritter Klub 048.jpg , skipping.\n",
            "No label found for Cat's Determined To Take Grilled Fish For The Lady Who Saved His Life Kritter Klub 057.jpg , skipping.\n",
            "No label found for Cat's Determined To Take Grilled Fish For The Lady Who Saved His Life Kritter Klub 061.jpg , skipping.\n",
            "No label found for Cat's Determined To Take Grilled Fish For The Lady Who Saved His Life Kritter Klub 072.jpg , skipping.\n",
            "No label found for Cat's Determined To Take Grilled Fish For The Lady Who Saved His Life Kritter Klub 074.jpg , skipping.\n",
            "No label found for Cat's Determined To Take Grilled Fish For The Lady Who Saved His Life Kritter Klub 076.jpg , skipping.\n",
            "No label found for Cat's Determined To Take Grilled Fish For The Lady Who Saved His Life Kritter Klub 081.jpg , skipping.\n",
            "No label found for Cat's Determined To Take Grilled Fish For The Lady Who Saved His Life Kritter Klub 085.jpg , skipping.\n",
            "No label found for Cat's Determined To Take Grilled Fish For The Lady Who Saved His Life Kritter Klub 087.jpg , skipping.\n",
            "No label found for Cat's Determined To Take Grilled Fish For The Lady Who Saved His Life Kritter Klub 089.jpg , skipping.\n",
            "No label found for Cat's Determined To Take Grilled Fish For The Lady Who Saved His Life Kritter Klub 091.jpg , skipping.\n",
            "No label found for Cat's Determined To Take Grilled Fish For The Lady Who Saved His Life Kritter Klub 097.jpg , skipping.\n",
            "No label found for Cat's Determined To Take Grilled Fish For The Lady Who Saved His Life Kritter Klub 108.jpg , skipping.\n",
            "No label found for Cat's Determined To Take Grilled Fish For The Lady Who Saved His Life Kritter Klub 111.jpg , skipping.\n",
            "No label found for Cat's Determined To Take Grilled Fish For The Lady Who Saved His Life Kritter Klub 116.jpg , skipping.\n",
            "No label found for Cat's Determined To Take Grilled Fish For The Lady Who Saved His Life Kritter Klub 124.jpg , skipping.\n",
            "No label found for Cat's Determined To Take Grilled Fish For The Lady Who Saved His Life Kritter Klub 126.jpg , skipping.\n",
            "No label found for Cat's Determined To Take Grilled Fish For The Lady Who Saved His Life Kritter Klub 133.jpg , skipping.\n",
            "No label found for Cat's Determined To Take Grilled Fish For The Lady Who Saved His Life Kritter Klub 137.jpg , skipping.\n",
            "No label found for Cat's Determined To Take Grilled Fish For The Lady Who Saved His Life Kritter Klub 142.jpg , skipping.\n",
            "No label found for Cat's Determined To Take Grilled Fish For The Lady Who Saved His Life Kritter Klub 143.jpg , skipping.\n",
            "No label found for Cat's Determined To Take Grilled Fish For The Lady Who Saved His Life Kritter Klub 149.jpg , skipping.\n",
            "No label found for Cat's Determined To Take Grilled Fish For The Lady Who Saved His Life Kritter Klub 152.jpg , skipping.\n",
            "No label found for Cat's Determined To Take Grilled Fish For The Lady Who Saved His Life Kritter Klub 159.jpg , skipping.\n",
            "No label found for Cat's Determined To Take Grilled Fish For The Lady Who Saved His Life Kritter Klub 160.jpg , skipping.\n",
            "No label found for Extra-Toes Cat - Hemingway Polydactyl_20782308_7401.jpg , skipping.\n",
            "No label found for Havana_13590855_702.jpg , skipping.\n"
          ]
        }
      ],
      "source": [
        "for img in os.listdir(DATA_PATH):\n",
        "    if secrets.randbelow(101)<percent_blur:\n",
        "        blur(img)"
      ]
    },
    {
      "cell_type": "code",
      "execution_count": 47,
      "metadata": {},
      "outputs": [
        {
          "output_type": "stream",
          "name": "stdout",
          "text": [
            "Total source labels: 1534\nTotal cloned labels: 965\nNon-labels: 182\n"
          ]
        }
      ],
      "source": [
        "\n",
        "print('Total source labels:',len(os.listdir(LABEL_PATH)))\n",
        "print('Total cloned labels:', len(os.listdir(LABEL_OUT_PATH)))\n",
        "print('Non-labels:',len(os.listdir(OUT_PATH))-len(os.listdir(LABEL_OUT_PATH)))"
      ]
    },
    {
      "cell_type": "code",
      "execution_count": null,
      "metadata": {},
      "outputs": [],
      "source": [
        "IMG_DIR = 'catset/images/'\n",
        "LABEL_DIR = 'catset/labels/'\n",
        "VAL_DIR = 'catset/val/'\n",
        "VAL_LABEL_DIR = 'catset/valbal/'\n",
        "val_percent = 10\n",
        "\n",
        "for img in os.listdir(IMG_DIR):\n",
        "    if secrets.randbelow(101)<val_percent:\n",
        "        shutil.move(IMG_DIR+img,VAL_DIR+img)\n",
        "        if os.path.isfile(LABEL_DIR+img.split('.')[0]+'.txt'):\n",
        "            shutil.move(LABEL_DIR+img.split('.')[0]+'.txt',VAL_LABEL_DIR+img.split('.')[0]+'.txt')"
      ]
    },
    {
      "cell_type": "code",
      "execution_count": null,
      "metadata": {},
      "outputs": [],
      "source": [
        "for label in os.listdir(VAL_LABEL_DIR):\n",
        "    if not os.path.isfile(VAL_DIR+label[:len(label)-4]+'.jpg'):\n",
        "        print(label)"
      ]
    }
  ]
}