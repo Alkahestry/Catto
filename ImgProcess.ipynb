{
  "nbformat": 4,
  "nbformat_minor": 0,
  "metadata": {
    "colab": {
      "name": "Gender Classification",
      "provenance": [],
      "collapsed_sections": []
    },
    "kernelspec": {
      "name": "python3",
      "display_name": "Python 3.9.5 64-bit"
    },
    "language_info": {
      "name": "python",
      "version": "3.9.5"
    },
    "metadata": {
      "interpreter": {
        "hash": "38740d3277777e2cd7c6c2cc9d8addf5118fdf3f82b1b39231fd12aeac8aee8b"
      }
    },
    "interpreter": {
      "hash": "38740d3277777e2cd7c6c2cc9d8addf5118fdf3f82b1b39231fd12aeac8aee8b"
    }
  },
  "cells": [
    {
      "cell_type": "code",
      "execution_count": 2,
      "metadata": {},
      "outputs": [],
      "source": [
        "import time\n",
        "import copy\n",
        "import numpy as np\n",
        "import matplotlib.pyplot as plt\n",
        "import pandas as pd\n",
        "import shutil"
      ]
    },
    {
      "cell_type": "code",
      "execution_count": 3,
      "metadata": {
        "tags": []
      },
      "outputs": [],
      "source": [
        "import os, sys\n",
        "import os.path\n",
        "from PIL import Image, ImageOps, ImageFilter\n",
        "import secrets\n",
        "\n",
        "DATA_PATH = 'img_processing/Raw/'\n",
        "OUT_PATH = 'img_processing/JPG_Stage/'\n",
        "LABEL_PATH = 'img_processing/Labels/'"
      ]
    },
    {
      "cell_type": "code",
      "execution_count": 4,
      "metadata": {},
      "outputs": [],
      "source": [
        "def mkdir(PATH):\n",
        "    try:\n",
        "        os.mkdir(PATH)\n",
        "    except OSError:\n",
        "        print(PATH,'already exists, skipping.')"
      ]
    },
    {
      "cell_type": "code",
      "execution_count": 5,
      "metadata": {},
      "outputs": [
        {
          "output_type": "stream",
          "name": "stdout",
          "text": [
            "img_processing/Raw/ already exists, skipping.\nimg_processing/JPG_Stage/ already exists, skipping.\nimg_processing/Labels/ already exists, skipping.\n"
          ]
        }
      ],
      "source": [
        "mkdir(DATA_PATH)\n",
        "mkdir(OUT_PATH)\n",
        "mkdir(LABEL_PATH)"
      ]
    },
    {
      "cell_type": "code",
      "execution_count": 6,
      "metadata": {
        "tags": []
      },
      "outputs": [],
      "source": [
        "outfileExt = 'jpg'\n",
        "for f in os.listdir(DATA_PATH):\n",
        "    temp = f.split(\".\")\n",
        "    fName = temp[0]\n",
        "    fExt = temp[1]\n",
        "    if fExt.lower()!=outfileExt:\n",
        "        try:\n",
        "            with Image.open(DATA_PATH + f) as im:\n",
        "                rgb_im = im.convert('RGB')\n",
        "                rgb_im.save(OUT_PATH+fName+'.'+outfileExt)\n",
        "                print('Converted',f,'to JPG')\n",
        "        except OSError:\n",
        "            print(\"cannot convert\", f)\n",
        "    else:\n",
        "        shutil.copy(DATA_PATH+f,OUT_PATH+f)"
      ]
    },
    {
      "cell_type": "code",
      "execution_count": 7,
      "metadata": {},
      "outputs": [],
      "source": [
        "DATA_PATH = 'img_processing/JPG_Stage/'\n",
        "OUT_PATH = 'img_processing/Augmentation/'\n",
        "LABEL_OUT_PATH = 'img_processing/Cloned_Labels/'\n",
        "\n",
        "mkdir(OUT_PATH)\n",
        "mkdir(LABEL_OUT_PATH)"
      ]
    },
    {
      "cell_type": "code",
      "execution_count": 8,
      "metadata": {},
      "outputs": [],
      "source": [
        "labelExt = '.txt'\n",
        "def grayscale(img):\n",
        "    try:\n",
        "        with Image.open(DATA_PATH+img) as im:\n",
        "            fout = img.split('.')[0]+'_Gray'+'.'+outfileExt\n",
        "            im = ImageOps.grayscale(im)\n",
        "            im.save(OUT_PATH+fout)\n",
        "            clone_label(img,'Gray')\n",
        "    except OSError:\n",
        "        print('Unable to grayscale image:' + img)\n",
        "        pass\n",
        "\n",
        "def mirror(img):\n",
        "    try:\n",
        "        with Image.open(DATA_PATH+img) as im:\n",
        "            fout = img.split('.')[0]+'_Mirror'+'.'+outfileExt\n",
        "            im = ImageOps.mirror(im)\n",
        "            im.save(OUT_PATH+fout)\n",
        "            clone_label(img,'Mirror')\n",
        "    except OSError:\n",
        "        print('Unable to mirror image:' + img)\n",
        "        pass\n",
        "\n",
        "def flip(img):\n",
        "    try:\n",
        "        with Image.open(DATA_PATH+img) as im:\n",
        "            fout = img.split('.')[0]+'_Flip'+'.'+outfileExt\n",
        "            im = ImageOps.flip(im)\n",
        "            im.save(OUT_PATH+fout)\n",
        "            clone_label(img,'Flip')\n",
        "    except OSError:\n",
        "        print('Unable to flip image:' + img)\n",
        "        pass\n",
        "\n",
        "def blur(img):\n",
        "    try:\n",
        "        with Image.open(DATA_PATH+img) as im:\n",
        "            fout = img.split('.')[0]+'_Blur'+'.'+outfileExt\n",
        "            im = im.filter(ImageFilter.GaussianBlur(secrets.randbelow(1)))\n",
        "            im.save(OUT_PATH+fout)\n",
        "            clone_label(img,'Blur')\n",
        "    except OSError:\n",
        "        print('Unable to blur image:  ' + img)\n",
        "        pass\n",
        "\n",
        "def clone_label(img,option):\n",
        "    labelSrc = img.split('.')[0]\n",
        "    label = labelSrc + '_' + option\n",
        "    if(os.path.isfile(LABEL_PATH + labelSrc + labelExt)):\n",
        "        shutil.copy(LABEL_PATH + labelSrc + labelExt, LABEL_OUT_PATH + label + labelExt)\n",
        "    else:\n",
        "        print('No label found for',img,', skipping.')"
      ]
    },
    {
      "cell_type": "code",
      "execution_count": 9,
      "metadata": {},
      "outputs": [],
      "source": [
        "# +1 to all percents\n",
        "percent_grayscale = 45\n",
        "percent_flip = 30\n",
        "percent_mirror = 30\n",
        "percent_blur = 20"
      ]
    },
    {
      "cell_type": "code",
      "execution_count": 10,
      "metadata": {
        "tags": []
      },
      "outputs": [
        {
          "output_type": "stream",
          "name": "stdout",
          "text": [
            "No label found for 26379050_4.jpg , skipping.\n",
            "No label found for 26542905_2.jpg , skipping.\n",
            "No label found for 26542905_3.jpg , skipping.\n",
            "No label found for 26542905_4.jpg , skipping.\n",
            "No label found for 29033335_1.jpg , skipping.\n",
            "No label found for 29033335_4.jpg , skipping.\n",
            "No label found for 29033335_5.jpg , skipping.\n",
            "No label found for 29033335_6.jpg , skipping.\n",
            "No label found for 34046779_2.jpg , skipping.\n",
            "No label found for 43221791_3.jpg , skipping.\n",
            "No label found for 43221791_6.jpg , skipping.\n",
            "No label found for 43778856_2.jpg , skipping.\n",
            "No label found for 43778856_6.jpg , skipping.\n",
            "No label found for 46760834_3.jpg , skipping.\n",
            "No label found for 46760834_4.jpg , skipping.\n",
            "No label found for 47088438_1.jpg , skipping.\n",
            "No label found for 47088438_2.jpg , skipping.\n",
            "No label found for 47088438_3.jpg , skipping.\n",
            "No label found for 47088438_6.jpg , skipping.\n",
            "No label found for 47874851_1.jpg , skipping.\n",
            "No label found for 47874851_3.jpg , skipping.\n",
            "No label found for 48038761_2.jpg , skipping.\n",
            "No label found for 48038761_4.jpg , skipping.\n",
            "No label found for 48038761_5.jpg , skipping.\n",
            "No label found for 48366436_2.jpg , skipping.\n",
            "No label found for 48366436_4.jpg , skipping.\n",
            "No label found for 48890771_2.jpg , skipping.\n",
            "No label found for 48890771_4.jpg , skipping.\n",
            "No label found for 48890771_6.jpg , skipping.\n",
            "No label found for 49677145_1.jpg , skipping.\n",
            "No label found for 49677145_3.jpg , skipping.\n",
            "No label found for 49677145_5.jpg , skipping.\n",
            "No label found for 49840998_1.jpg , skipping.\n",
            "No label found for 49840998_2.jpg , skipping.\n",
            "No label found for 49840998_4.jpg , skipping.\n",
            "No label found for 49939343_1.jpg , skipping.\n",
            "No label found for 49939343_2.jpg , skipping.\n",
            "No label found for 49972119_1.jpg , skipping.\n",
            "No label found for 49972119_3.jpg , skipping.\n",
            "No label found for 49972119_4.jpg , skipping.\n",
            "No label found for 49972119_6.jpg , skipping.\n",
            "No label found for 50037594_4.jpg , skipping.\n",
            "No label found for 50103145_3.jpg , skipping.\n",
            "No label found for 50103145_5.jpg , skipping.\n",
            "No label found for 50103145_6.jpg , skipping.\n",
            "No label found for 51356408_3.jpg , skipping.\n",
            "No label found for Cat's Determined To Take Grilled Fish For The Lady Who Saved His Life Kritter Klub 002.jpg , skipping.\n",
            "No label found for Cat's Determined To Take Grilled Fish For The Lady Who Saved His Life Kritter Klub 004.jpg , skipping.\n",
            "No label found for Cat's Determined To Take Grilled Fish For The Lady Who Saved His Life Kritter Klub 005.jpg , skipping.\n",
            "No label found for Cat's Determined To Take Grilled Fish For The Lady Who Saved His Life Kritter Klub 012.jpg , skipping.\n",
            "No label found for Cat's Determined To Take Grilled Fish For The Lady Who Saved His Life Kritter Klub 013.jpg , skipping.\n",
            "No label found for Cat's Determined To Take Grilled Fish For The Lady Who Saved His Life Kritter Klub 034.jpg , skipping.\n",
            "No label found for Cat's Determined To Take Grilled Fish For The Lady Who Saved His Life Kritter Klub 042.jpg , skipping.\n",
            "No label found for Cat's Determined To Take Grilled Fish For The Lady Who Saved His Life Kritter Klub 043.jpg , skipping.\n",
            "No label found for Cat's Determined To Take Grilled Fish For The Lady Who Saved His Life Kritter Klub 065.jpg , skipping.\n",
            "No label found for Cat's Determined To Take Grilled Fish For The Lady Who Saved His Life Kritter Klub 066.jpg , skipping.\n",
            "No label found for Cat's Determined To Take Grilled Fish For The Lady Who Saved His Life Kritter Klub 067.jpg , skipping.\n",
            "No label found for Cat's Determined To Take Grilled Fish For The Lady Who Saved His Life Kritter Klub 068.jpg , skipping.\n",
            "No label found for Cat's Determined To Take Grilled Fish For The Lady Who Saved His Life Kritter Klub 089.jpg , skipping.\n",
            "No label found for Cat's Determined To Take Grilled Fish For The Lady Who Saved His Life Kritter Klub 103.jpg , skipping.\n",
            "No label found for Cat's Determined To Take Grilled Fish For The Lady Who Saved His Life Kritter Klub 105.jpg , skipping.\n",
            "No label found for Cat's Determined To Take Grilled Fish For The Lady Who Saved His Life Kritter Klub 112.jpg , skipping.\n",
            "No label found for Cat's Determined To Take Grilled Fish For The Lady Who Saved His Life Kritter Klub 116.jpg , skipping.\n",
            "No label found for Cat's Determined To Take Grilled Fish For The Lady Who Saved His Life Kritter Klub 122.jpg , skipping.\n",
            "No label found for Cat's Determined To Take Grilled Fish For The Lady Who Saved His Life Kritter Klub 137.jpg , skipping.\n",
            "No label found for Cat's Determined To Take Grilled Fish For The Lady Who Saved His Life Kritter Klub 141.jpg , skipping.\n",
            "No label found for Chinchilla_45154157_4.jpg , skipping.\n",
            "No label found for Havana_12342690_714.jpg , skipping.\n",
            "No label found for Havana_12659248_712.jpg , skipping.\n",
            "No label found for Havana_13590855_702.jpg , skipping.\n",
            "No label found for Javanese_30411178_53.jpg , skipping.\n",
            "No label found for Silver_15800259_1202.jpg , skipping.\n",
            "No label found for Silver_15956419_1190.jpg , skipping.\n"
          ]
        }
      ],
      "source": [
        "for img in os.listdir(DATA_PATH):\n",
        "    if secrets.randbelow(101)<percent_grayscale:\n",
        "        grayscale(img)"
      ]
    },
    {
      "cell_type": "code",
      "execution_count": 11,
      "metadata": {
        "tags": []
      },
      "outputs": [
        {
          "output_type": "stream",
          "name": "stdout",
          "text": [
            "No label found for 26542905_6.jpg , skipping.\n",
            "No label found for 43221791_1.jpg , skipping.\n",
            "No label found for 43221791_2.jpg , skipping.\n",
            "No label found for 43221791_5.jpg , skipping.\n",
            "No label found for 43778856_3.jpg , skipping.\n",
            "No label found for 47088438_5.jpg , skipping.\n",
            "No label found for 47874851_3.jpg , skipping.\n",
            "No label found for 48038761_1.jpg , skipping.\n",
            "No label found for 48366436_6.jpg , skipping.\n",
            "No label found for 48890771_6.jpg , skipping.\n",
            "No label found for 49939343_4.jpg , skipping.\n",
            "No label found for 49972119_6.jpg , skipping.\n",
            "No label found for 50103145_5.jpg , skipping.\n",
            "No label found for 51684092_5.jpg , skipping.\n",
            "No label found for Cat's Determined To Take Grilled Fish For The Lady Who Saved His Life Kritter Klub 013.jpg , skipping.\n",
            "No label found for Cat's Determined To Take Grilled Fish For The Lady Who Saved His Life Kritter Klub 033.jpg , skipping.\n",
            "No label found for Cat's Determined To Take Grilled Fish For The Lady Who Saved His Life Kritter Klub 034.jpg , skipping.\n",
            "No label found for Cat's Determined To Take Grilled Fish For The Lady Who Saved His Life Kritter Klub 042.jpg , skipping.\n",
            "No label found for Cat's Determined To Take Grilled Fish For The Lady Who Saved His Life Kritter Klub 049.jpg , skipping.\n",
            "No label found for Cat's Determined To Take Grilled Fish For The Lady Who Saved His Life Kritter Klub 054.jpg , skipping.\n",
            "No label found for Cat's Determined To Take Grilled Fish For The Lady Who Saved His Life Kritter Klub 064.jpg , skipping.\n",
            "No label found for Cat's Determined To Take Grilled Fish For The Lady Who Saved His Life Kritter Klub 076.jpg , skipping.\n",
            "No label found for Cat's Determined To Take Grilled Fish For The Lady Who Saved His Life Kritter Klub 107.jpg , skipping.\n",
            "No label found for Cat's Determined To Take Grilled Fish For The Lady Who Saved His Life Kritter Klub 116.jpg , skipping.\n",
            "No label found for Cat's Determined To Take Grilled Fish For The Lady Who Saved His Life Kritter Klub 117.jpg , skipping.\n",
            "No label found for Cat's Determined To Take Grilled Fish For The Lady Who Saved His Life Kritter Klub 122.jpg , skipping.\n",
            "No label found for Cat's Determined To Take Grilled Fish For The Lady Who Saved His Life Kritter Klub 145.jpg , skipping.\n",
            "No label found for Havana_11255251_734.jpg , skipping.\n",
            "No label found for Havana_13590855_702.jpg , skipping.\n",
            "No label found for Silver_15800259_1202.jpg , skipping.\n",
            "No label found for Silver_16717558_1140.jpg , skipping.\n"
          ]
        }
      ],
      "source": [
        "for img in os.listdir(DATA_PATH):\n",
        "    if secrets.randbelow(101)<percent_blur:\n",
        "        blur(img)"
      ]
    },
    {
      "cell_type": "code",
      "execution_count": 12,
      "metadata": {
        "tags": []
      },
      "outputs": [
        {
          "output_type": "stream",
          "name": "stdout",
          "text": [
            "No label found for 26542905_1.jpg , skipping.\n",
            "No label found for 26542905_4.jpg , skipping.\n",
            "No label found for 29033335_2.jpg , skipping.\n",
            "No label found for 29033335_6.jpg , skipping.\n",
            "No label found for 43221791_3.jpg , skipping.\n",
            "No label found for 43221791_4.jpg , skipping.\n",
            "No label found for 43778856_2.jpg , skipping.\n",
            "No label found for 43778856_5.jpg , skipping.\n",
            "No label found for 43778856_6.jpg , skipping.\n",
            "No label found for 44204921_1.jpg , skipping.\n",
            "No label found for 44204921_3.jpg , skipping.\n",
            "No label found for 46760834_1.jpg , skipping.\n",
            "No label found for 46760834_2.jpg , skipping.\n",
            "No label found for 46760834_3.jpg , skipping.\n",
            "No label found for 46760834_5.jpg , skipping.\n",
            "No label found for 47088438_1.jpg , skipping.\n",
            "No label found for 47088438_2.jpg , skipping.\n",
            "No label found for 47874851_1.jpg , skipping.\n",
            "No label found for 47874851_2.jpg , skipping.\n",
            "No label found for 48038761_2.jpg , skipping.\n",
            "No label found for 48038761_5.jpg , skipping.\n",
            "No label found for 48890771_4.jpg , skipping.\n",
            "No label found for 49840998_5.jpg , skipping.\n",
            "No label found for 49840998_6.jpg , skipping.\n",
            "No label found for 49939343_2.jpg , skipping.\n",
            "No label found for 49939343_5.jpg , skipping.\n",
            "No label found for 49972119_4.jpg , skipping.\n",
            "No label found for 49972119_5.jpg , skipping.\n",
            "No label found for 50037594_3.jpg , skipping.\n",
            "No label found for 50103145_2.jpg , skipping.\n",
            "No label found for 50103145_5.jpg , skipping.\n",
            "No label found for 51356408_3.jpg , skipping.\n",
            "No label found for 51749596_3.jpg , skipping.\n",
            "No label found for Cat's Determined To Take Grilled Fish For The Lady Who Saved His Life Kritter Klub 014.jpg , skipping.\n",
            "No label found for Cat's Determined To Take Grilled Fish For The Lady Who Saved His Life Kritter Klub 033.jpg , skipping.\n",
            "No label found for Cat's Determined To Take Grilled Fish For The Lady Who Saved His Life Kritter Klub 034.jpg , skipping.\n",
            "No label found for Cat's Determined To Take Grilled Fish For The Lady Who Saved His Life Kritter Klub 037.jpg , skipping.\n",
            "No label found for Cat's Determined To Take Grilled Fish For The Lady Who Saved His Life Kritter Klub 042.jpg , skipping.\n",
            "No label found for Cat's Determined To Take Grilled Fish For The Lady Who Saved His Life Kritter Klub 049.jpg , skipping.\n",
            "No label found for Cat's Determined To Take Grilled Fish For The Lady Who Saved His Life Kritter Klub 062.jpg , skipping.\n",
            "No label found for Cat's Determined To Take Grilled Fish For The Lady Who Saved His Life Kritter Klub 067.jpg , skipping.\n",
            "No label found for Cat's Determined To Take Grilled Fish For The Lady Who Saved His Life Kritter Klub 076.jpg , skipping.\n",
            "No label found for Cat's Determined To Take Grilled Fish For The Lady Who Saved His Life Kritter Klub 079.jpg , skipping.\n",
            "No label found for Cat's Determined To Take Grilled Fish For The Lady Who Saved His Life Kritter Klub 089.jpg , skipping.\n",
            "No label found for Cat's Determined To Take Grilled Fish For The Lady Who Saved His Life Kritter Klub 104.jpg , skipping.\n",
            "No label found for Cat's Determined To Take Grilled Fish For The Lady Who Saved His Life Kritter Klub 107.jpg , skipping.\n",
            "No label found for Cat's Determined To Take Grilled Fish For The Lady Who Saved His Life Kritter Klub 117.jpg , skipping.\n",
            "No label found for Cat's Determined To Take Grilled Fish For The Lady Who Saved His Life Kritter Klub 126.jpg , skipping.\n",
            "No label found for Cat's Determined To Take Grilled Fish For The Lady Who Saved His Life Kritter Klub 145.jpg , skipping.\n",
            "No label found for Havana_13590855_702.jpg , skipping.\n",
            "No label found for Javanese_30411178_53.jpg , skipping.\n"
          ]
        }
      ],
      "source": [
        "for img in os.listdir(DATA_PATH):\n",
        "    if secrets.randbelow(101)<percent_flip:\n",
        "        flip(img)"
      ]
    },
    {
      "cell_type": "code",
      "execution_count": 13,
      "metadata": {
        "tags": []
      },
      "outputs": [
        {
          "output_type": "stream",
          "name": "stdout",
          "text": [
            "No label found for 26542905_3.jpg , skipping.\n",
            "No label found for 26542905_6.jpg , skipping.\n",
            "No label found for 34046779_4.jpg , skipping.\n",
            "No label found for 34046779_5.jpg , skipping.\n",
            "No label found for 43221791_1.jpg , skipping.\n",
            "No label found for 43221791_2.jpg , skipping.\n",
            "No label found for 44204921_1.jpg , skipping.\n",
            "No label found for 44204921_2.jpg , skipping.\n",
            "No label found for 44204921_3.jpg , skipping.\n",
            "No label found for 44204921_5.jpg , skipping.\n",
            "No label found for 47088438_6.jpg , skipping.\n",
            "No label found for 47874851_2.jpg , skipping.\n",
            "No label found for 48366436_3.jpg , skipping.\n",
            "No label found for 48366436_4.jpg , skipping.\n",
            "No label found for 48366436_5.jpg , skipping.\n",
            "No label found for 48890771_2.jpg , skipping.\n",
            "No label found for 48890771_4.jpg , skipping.\n",
            "No label found for 48890771_6.jpg , skipping.\n",
            "No label found for 49677145_2.jpg , skipping.\n",
            "No label found for 49677145_4.jpg , skipping.\n",
            "No label found for 49677145_5.jpg , skipping.\n",
            "No label found for 49677145_6.jpg , skipping.\n",
            "No label found for 49840998_1.jpg , skipping.\n",
            "No label found for 49840998_2.jpg , skipping.\n",
            "No label found for 49939343_5.jpg , skipping.\n",
            "No label found for 49972119_4.jpg , skipping.\n",
            "No label found for 49972119_6.jpg , skipping.\n",
            "No label found for 50037594_2.jpg , skipping.\n",
            "No label found for 50037594_3.jpg , skipping.\n",
            "No label found for 50037594_6.jpg , skipping.\n",
            "No label found for 50103145_2.jpg , skipping.\n",
            "No label found for 50103145_3.jpg , skipping.\n",
            "No label found for 50103145_6.jpg , skipping.\n",
            "No label found for 51356408_3.jpg , skipping.\n",
            "No label found for 51684092_5.jpg , skipping.\n",
            "No label found for American Wirehair_38444660_35.jpg , skipping.\n",
            "No label found for Cat's Determined To Take Grilled Fish For The Lady Who Saved His Life Kritter Klub 003.jpg , skipping.\n",
            "No label found for Cat's Determined To Take Grilled Fish For The Lady Who Saved His Life Kritter Klub 011.jpg , skipping.\n",
            "No label found for Cat's Determined To Take Grilled Fish For The Lady Who Saved His Life Kritter Klub 013.jpg , skipping.\n",
            "No label found for Cat's Determined To Take Grilled Fish For The Lady Who Saved His Life Kritter Klub 033.jpg , skipping.\n",
            "No label found for Cat's Determined To Take Grilled Fish For The Lady Who Saved His Life Kritter Klub 034.jpg , skipping.\n",
            "No label found for Cat's Determined To Take Grilled Fish For The Lady Who Saved His Life Kritter Klub 037.jpg , skipping.\n",
            "No label found for Cat's Determined To Take Grilled Fish For The Lady Who Saved His Life Kritter Klub 043.jpg , skipping.\n",
            "No label found for Cat's Determined To Take Grilled Fish For The Lady Who Saved His Life Kritter Klub 062.jpg , skipping.\n",
            "No label found for Cat's Determined To Take Grilled Fish For The Lady Who Saved His Life Kritter Klub 065.jpg , skipping.\n",
            "No label found for Cat's Determined To Take Grilled Fish For The Lady Who Saved His Life Kritter Klub 076.jpg , skipping.\n",
            "No label found for Cat's Determined To Take Grilled Fish For The Lady Who Saved His Life Kritter Klub 079.jpg , skipping.\n",
            "No label found for Cat's Determined To Take Grilled Fish For The Lady Who Saved His Life Kritter Klub 090.jpg , skipping.\n",
            "No label found for Cat's Determined To Take Grilled Fish For The Lady Who Saved His Life Kritter Klub 091.jpg , skipping.\n",
            "No label found for Cat's Determined To Take Grilled Fish For The Lady Who Saved His Life Kritter Klub 104.jpg , skipping.\n",
            "No label found for Cat's Determined To Take Grilled Fish For The Lady Who Saved His Life Kritter Klub 105.jpg , skipping.\n",
            "No label found for Cat's Determined To Take Grilled Fish For The Lady Who Saved His Life Kritter Klub 106.jpg , skipping.\n",
            "No label found for Cat's Determined To Take Grilled Fish For The Lady Who Saved His Life Kritter Klub 112.jpg , skipping.\n",
            "No label found for Cat's Determined To Take Grilled Fish For The Lady Who Saved His Life Kritter Klub 122.jpg , skipping.\n",
            "No label found for Cat's Determined To Take Grilled Fish For The Lady Who Saved His Life Kritter Klub 126.jpg , skipping.\n",
            "No label found for Cat's Determined To Take Grilled Fish For The Lady Who Saved His Life Kritter Klub 127.jpg , skipping.\n",
            "No label found for Cat's Determined To Take Grilled Fish For The Lady Who Saved His Life Kritter Klub 141.jpg , skipping.\n",
            "No label found for Extra-Toes Cat - Hemingway Polydactyl_20782308_7401.jpg , skipping.\n",
            "No label found for Havana_11255251_734.jpg , skipping.\n"
          ]
        }
      ],
      "source": [
        "for img in os.listdir(DATA_PATH):\n",
        "    if secrets.randbelow(101)<percent_mirror:\n",
        "        mirror(img)"
      ]
    },
    {
      "cell_type": "code",
      "execution_count": 14,
      "metadata": {},
      "outputs": [
        {
          "output_type": "stream",
          "name": "stdout",
          "text": [
            "Total source labels: 1836\nTotal cloned labels: 2241\nNon-labels: 214\n"
          ]
        }
      ],
      "source": [
        "\n",
        "print('Total source labels:',len(os.listdir(LABEL_PATH)))\n",
        "print('Total cloned labels:', len(os.listdir(LABEL_OUT_PATH)))\n",
        "print('Non-labels:',len(os.listdir(OUT_PATH))-len(os.listdir(LABEL_OUT_PATH)))"
      ]
    }
  ]
}