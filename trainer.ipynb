{
  "nbformat": 4,
  "nbformat_minor": 0,
  "metadata": {
    "colab": {
      "name": "Gender Classification",
      "provenance": [],
      "collapsed_sections": []
    },
    "kernelspec": {
      "name": "python3",
      "display_name": "Python 3.9.5 64-bit"
    },
    "language_info": {
      "name": "python",
      "version": "3.9.5"
    },
    "metadata": {
      "interpreter": {
        "hash": "38740d3277777e2cd7c6c2cc9d8addf5118fdf3f82b1b39231fd12aeac8aee8b"
      }
    },
    "interpreter": {
      "hash": "38740d3277777e2cd7c6c2cc9d8addf5118fdf3f82b1b39231fd12aeac8aee8b"
    }
  },
  "cells": [
    {
      "cell_type": "code",
      "execution_count": 1,
      "metadata": {},
      "outputs": [],
      "source": [
        "import time\n",
        "import os\n",
        "import copy\n",
        "import numpy as np\n",
        "import matplotlib.pyplot as plt\n",
        "import pandas as pd\n",
        "# \n",
        "import torch\n",
        "import torch.nn as nn\n",
        "import torch.optim as optim\n",
        "from torch.optim import lr_scheduler\n",
        "import torchvision\n",
        "from torchvision import models, transforms\n",
        "from torchvision import datasets\n",
        "from torchvision.transforms import ToTensor\n",
        "from torchvision.io import read_image\n",
        "from torch.utils.data import DataLoader\n",
        "# Dataset\n",
        "from CustomDataset import CatDataset"
      ]
    },
    {
      "cell_type": "code",
      "execution_count": 2,
      "metadata": {},
      "outputs": [
        {
          "output_type": "stream",
          "name": "stdout",
          "text": [
            "PyTorch Version:  1.8.1+cu111\nTorchvision Version:  0.9.1+cu111\nIs CUDA installed ?: True\nCUDA Version: 11.1\nUsing GPU.\n"
          ]
        }
      ],
      "source": [
        "print(\"PyTorch Version: \",torch.__version__)\n",
        "print(\"Torchvision Version: \",torchvision.__version__)\n",
        "print('Is CUDA installed ?:',torch.cuda.is_available())\n",
        "\n",
        "if torch.cuda.is_available():\n",
        "    device = torch.device(\"cuda:0\")\n",
        "    print('CUDA Version:',torch.version.cuda)\n",
        "    print('Using GPU.')\n",
        "else:\n",
        "  print('No CUDA is installed, using CPU instead.') \n",
        "  device = torch.device('CPU')"
      ]
    },
    {
      "source": [
        "-----------------------------------\n",
        "**No need to use anything below yet.**\n",
        "**Reserved for future run.**\n",
        "-----------------------------------\n",
        "\n"
      ],
      "cell_type": "markdown",
      "metadata": {}
    },
    {
      "cell_type": "code",
      "execution_count": null,
      "metadata": {
        "tags": [
          "outputPrepend"
        ]
      },
      "outputs": [],
      "source": [
        "#Generate label file\n",
        "DATA_PATH = 'catset/labels'\n",
        "labelset = []\n",
        "for label in os.listdir(DATA_PATH):\n",
        "    end = len(label)\n",
        "    label = label[:(end-4)]+'.jpg'\n",
        "    labelset.append(label)\n",
        "    print(label)"
      ]
    },
    {
      "cell_type": "code",
      "execution_count": null,
      "metadata": {},
      "outputs": [],
      "source": [
        "df = pd.DataFrame(labelset)\n",
        "df.insert(1, 'label', '0')\n",
        "df.reset_index(drop=True)\n",
        "df.head(5)\n",
        "df.to_csv('catset/labels.csv',\n",
        "            index=False,\n",
        "            header=False    )"
      ]
    },
    {
      "cell_type": "code",
      "execution_count": null,
      "metadata": {},
      "outputs": [],
      "source": [
        "training_data = CatDataset(csv_file='catset/labels.csv', root_dir='catset/images',transform=ToTensor)"
      ]
    },
    {
      "cell_type": "code",
      "execution_count": null,
      "metadata": {},
      "outputs": [],
      "source": [
        "train_dataloader = DataLoader(training_data, batch_size=64, shuffle=True)"
      ]
    },
    {
      "cell_type": "code",
      "execution_count": null,
      "metadata": {},
      "outputs": [],
      "source": [
        "catto = torch.hub.load('ultralytics/yolov5', 'custom', path='weight/YoloV5s_cat.pt',force_reload=True)  # Load Catto model"
      ]
    },
    {
      "cell_type": "code",
      "execution_count": null,
      "metadata": {},
      "outputs": [],
      "source": [
        "IMG_PATH = 'training_data/images/'\n",
        "imgset = []\n",
        "for img in os.listdir(IMG_PATH):\n",
        "    imgset.append(IMG_PATH+img)\n",
        "len(imgset)"
      ]
    },
    {
      "cell_type": "code",
      "execution_count": null,
      "metadata": {},
      "outputs": [],
      "source": [
        "catto.cpu()\n",
        "results = catto(imgset, size=320)  # custom inference size\n",
        "results.xyxy[0]\n"
      ]
    },
    {
      "cell_type": "code",
      "execution_count": null,
      "metadata": {},
      "outputs": [],
      "source": [
        "results.save()"
      ]
    },
    {
      "source": [
        "\n",
        "Training line:\n",
        "\n",
        "```\n",
        "\n",
        "python train.py --img 320  --batch 32  --epochs 100  --data catset.yaml --worker 0  --weights yolov5s.pt\n",
        "\n",
        "```\n",
        "```\n",
        "python train.py --img 320  --batch 32  --epochs 100  --data catset.yaml --worker 0  --weights weights/catto.pt\n",
        "```\n",
        "Freezing line (replace in train.py):\n",
        "\n",
        "```\n",
        "\n",
        "freeze =  ['model.%s.'  % x for x in  range(10)]\n",
        "\n",
        "```\n",
        "\n",
        "Test line:\n",
        "\n",
        "```\n",
        "\n",
        "#Using Yolov5s model to test\n",
        "\n",
        "python detect.py --weights yolov5s.pt --img 640  --conf 0.25  --source catset/images\n",
        "\n",
        "#Using Catto model to test\n",
        "\n",
        "python detect.py --weights yolov5s_cat.pt --img 320  --source catset/images\n",
        "\n",
        "```"
      ],
      "cell_type": "markdown",
      "metadata": {}
    },
    {
      "cell_type": "code",
      "execution_count": null,
      "metadata": {},
      "outputs": [],
      "source": []
    }
  ]
}